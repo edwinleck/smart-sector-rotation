{
 "cells": [
  {
   "cell_type": "code",
   "execution_count": null,
   "id": "03f27c45",
   "metadata": {},
   "outputs": [],
   "source": [
    "# 4aeb460f0c974611ef8db66c9a660e8c"
   ]
  },
  {
   "cell_type": "code",
   "execution_count": 15,
   "id": "f9757e24",
   "metadata": {},
   "outputs": [],
   "source": [
    "import yfinance as yf\n",
    "import pandas as pd\n",
    "import numpy as np\n",
    "import matplotlib.pyplot as plt\n",
    "from sklearn.ensemble import RandomForestClassifier\n",
    "from sklearn.model_selection import train_test_split\n",
    "from sklearn.metrics import accuracy_score\n",
    "import os"
   ]
  },
  {
   "cell_type": "code",
   "execution_count": 22,
   "id": "2189899d",
   "metadata": {},
   "outputs": [
    {
     "data": {
      "text/html": [
       "<div>\n",
       "<style scoped>\n",
       "    .dataframe tbody tr th:only-of-type {\n",
       "        vertical-align: middle;\n",
       "    }\n",
       "\n",
       "    .dataframe tbody tr th {\n",
       "        vertical-align: top;\n",
       "    }\n",
       "\n",
       "    .dataframe thead th {\n",
       "        text-align: right;\n",
       "    }\n",
       "</style>\n",
       "<table border=\"1\" class=\"dataframe\">\n",
       "  <thead>\n",
       "    <tr style=\"text-align: right;\">\n",
       "      <th></th>\n",
       "      <th>XLY</th>\n",
       "      <th>XLP</th>\n",
       "      <th>XLE</th>\n",
       "      <th>XLK</th>\n",
       "      <th>XLV</th>\n",
       "      <th>XLF</th>\n",
       "      <th>XLI</th>\n",
       "      <th>XLB</th>\n",
       "      <th>XLU</th>\n",
       "    </tr>\n",
       "    <tr>\n",
       "      <th>Date</th>\n",
       "      <th></th>\n",
       "      <th></th>\n",
       "      <th></th>\n",
       "      <th></th>\n",
       "      <th></th>\n",
       "      <th></th>\n",
       "      <th></th>\n",
       "      <th></th>\n",
       "      <th></th>\n",
       "    </tr>\n",
       "  </thead>\n",
       "  <tbody>\n",
       "    <tr>\n",
       "      <th>2015-01-02</th>\n",
       "      <td>63.77</td>\n",
       "      <td>36.86</td>\n",
       "      <td>52.74</td>\n",
       "      <td>36.38</td>\n",
       "      <td>58.08</td>\n",
       "      <td>16.53</td>\n",
       "      <td>46.83</td>\n",
       "      <td>39.58</td>\n",
       "      <td>33.96</td>\n",
       "    </tr>\n",
       "    <tr>\n",
       "      <th>2015-01-05</th>\n",
       "      <td>62.55</td>\n",
       "      <td>36.60</td>\n",
       "      <td>50.55</td>\n",
       "      <td>35.82</td>\n",
       "      <td>57.78</td>\n",
       "      <td>16.18</td>\n",
       "      <td>45.74</td>\n",
       "      <td>38.57</td>\n",
       "      <td>33.55</td>\n",
       "    </tr>\n",
       "    <tr>\n",
       "      <th>2015-01-06</th>\n",
       "      <td>61.93</td>\n",
       "      <td>36.55</td>\n",
       "      <td>49.81</td>\n",
       "      <td>35.39</td>\n",
       "      <td>57.58</td>\n",
       "      <td>15.93</td>\n",
       "      <td>45.18</td>\n",
       "      <td>38.23</td>\n",
       "      <td>33.57</td>\n",
       "    </tr>\n",
       "    <tr>\n",
       "      <th>2015-01-07</th>\n",
       "      <td>62.91</td>\n",
       "      <td>37.18</td>\n",
       "      <td>49.92</td>\n",
       "      <td>35.69</td>\n",
       "      <td>58.94</td>\n",
       "      <td>16.10</td>\n",
       "      <td>45.52</td>\n",
       "      <td>38.66</td>\n",
       "      <td>33.90</td>\n",
       "    </tr>\n",
       "    <tr>\n",
       "      <th>2015-01-08</th>\n",
       "      <td>63.85</td>\n",
       "      <td>37.74</td>\n",
       "      <td>51.04</td>\n",
       "      <td>36.47</td>\n",
       "      <td>59.95</td>\n",
       "      <td>16.34</td>\n",
       "      <td>46.43</td>\n",
       "      <td>39.58</td>\n",
       "      <td>34.13</td>\n",
       "    </tr>\n",
       "  </tbody>\n",
       "</table>\n",
       "</div>"
      ],
      "text/plain": [
       "              XLY    XLP    XLE    XLK    XLV    XLF    XLI    XLB    XLU\n",
       "Date                                                                     \n",
       "2015-01-02  63.77  36.86  52.74  36.38  58.08  16.53  46.83  39.58  33.96\n",
       "2015-01-05  62.55  36.60  50.55  35.82  57.78  16.18  45.74  38.57  33.55\n",
       "2015-01-06  61.93  36.55  49.81  35.39  57.58  15.93  45.18  38.23  33.57\n",
       "2015-01-07  62.91  37.18  49.92  35.69  58.94  16.10  45.52  38.66  33.90\n",
       "2015-01-08  63.85  37.74  51.04  36.47  59.95  16.34  46.43  39.58  34.13"
      ]
     },
     "execution_count": 22,
     "metadata": {},
     "output_type": "execute_result"
    }
   ],
   "source": [
    "tickers = ['XLY', 'XLP', 'XLE', 'XLK', 'XLV', 'XLF', 'XLI', 'XLB', 'XLU']\n",
    "DATA_DIR = \"./data\"\n",
    "\n",
    "sector_data = {}\n",
    "\n",
    "for ticker in tickers:\n",
    "    file_path = os.path.join(DATA_DIR, f\"{ticker}.csv\")\n",
    "    df = pd.read_csv(file_path, parse_dates=[\"Date\"])\n",
    "    \n",
    "    # Drop rows with missing values (e.g., dividend days)\n",
    "    df = df.dropna(subset=[\"Adj Close\"])  \n",
    "    \n",
    "    # Set Date as index and keep only Adjusted Close\n",
    "    df = df.set_index(\"Date\")[[\"Adj Close\"]]\n",
    "    df.rename(columns={\"Adj Close\": ticker}, inplace=True)\n",
    "    \n",
    "    sector_data[ticker] = df\n",
    "\n",
    "# Combine into single DataFrame\n",
    "etf_data = pd.concat(sector_data.values(), axis=1).sort_index()\n",
    "\n",
    "# Preview\n",
    "etf_data.head()"
   ]
  },
  {
   "cell_type": "code",
   "execution_count": 23,
   "id": "0b5b21d5",
   "metadata": {},
   "outputs": [],
   "source": [
    "# Cell: Load SPY benchmark (same format as sectors)\n",
    "spy = pd.read_csv(\"./data/SPY.csv\", parse_dates=[\"Date\"])\n",
    "spy = spy.dropna(subset=[\"Adj Close\"])\n",
    "spy = spy.set_index(\"Date\")[[\"Adj Close\"]]\n",
    "spy.rename(columns={\"Adj Close\": \"SPY\"}, inplace=True)\n",
    "\n",
    "# Merge SPY with sector data\n",
    "etf_data = etf_data.merge(spy, left_index=True, right_index=True, how=\"inner\")"
   ]
  },
  {
   "cell_type": "code",
   "execution_count": 39,
   "id": "6467c00d",
   "metadata": {},
   "outputs": [],
   "source": [
    "# Cell: Calculate Returns\n",
    "returns = etf_data.pct_change().dropna()"
   ]
  },
  {
   "cell_type": "code",
   "execution_count": 41,
   "id": "5f3ef273",
   "metadata": {},
   "outputs": [],
   "source": [
    "# Calculate mean return of all sectors each day\n",
    "mean_returns = returns.mean(axis=1)\n",
    "\n",
    "# Create labels: 1 if sector return > mean return, else 0\n",
    "labels = returns.apply(lambda x: (x > mean_returns).astype(int))"
   ]
  },
  {
   "cell_type": "code",
   "execution_count": 42,
   "id": "b4085237",
   "metadata": {},
   "outputs": [],
   "source": [
    "# Create rolling average features (e.g., 5-day and 20-day moving averages)\n",
    "rolling_features = pd.DataFrame()\n",
    "for ticker in tickers:\n",
    "    rolling_features[f'{ticker}_5d'] = returns[ticker].rolling(5).mean()\n",
    "    rolling_features[f'{ticker}_20d'] = returns[ticker].rolling(20).mean()\n",
    "\n",
    "# Drop NaN values\n",
    "rolling_features = rolling_features.dropna()\n",
    "labels = labels.loc[rolling_features.index]"
   ]
  },
  {
   "cell_type": "code",
   "execution_count": 43,
   "id": "cdd2506d",
   "metadata": {},
   "outputs": [],
   "source": [
    "# Split data into training and testing sets\n",
    "X_train, X_test, y_train, y_test = train_test_split(rolling_features, labels, test_size=0.2, random_state=42)"
   ]
  },
  {
   "cell_type": "code",
   "execution_count": 44,
   "id": "ec12d0c3",
   "metadata": {},
   "outputs": [],
   "source": [
    "# Initialize and train the Random Forest Classifier\n",
    "model = RandomForestClassifier(n_estimators=100, random_state=42)\n",
    "model.fit(X_train, y_train)\n",
    "\n",
    "# Predict on test data\n",
    "y_pred = model.predict(X_test)"
   ]
  },
  {
   "cell_type": "code",
   "execution_count": 45,
   "id": "b3274976",
   "metadata": {},
   "outputs": [
    {
     "name": "stdout",
     "output_type": "stream",
     "text": [
      "Accuracy of the model: 0.01\n"
     ]
    }
   ],
   "source": [
    "# Evaluate accuracy of the model\n",
    "accuracy = accuracy_score(y_test, y_pred)\n",
    "print(f'Accuracy of the model: {accuracy:.2f}')"
   ]
  },
  {
   "cell_type": "code",
   "execution_count": 46,
   "id": "2e5a3b02",
   "metadata": {},
   "outputs": [
    {
     "data": {
      "image/png": "[encoded data removed]",
      "text/plain": [
       "<Figure size 640x480 with 1 Axes>"
      ]
     },
     "metadata": {},
     "output_type": "display_data"
    }
   ],
   "source": [
    "# Simulate sector rotation based on model predictions\n",
    "investment_returns = pd.DataFrame(index=X_test.index)\n",
    "\n",
    "# Iterate over each sector (ticker)\n",
    "for ticker in tickers:\n",
    "    # Multiply sector returns by the binary predictions (1 for outperform, 0 for underperform)\n",
    "    investment_returns[ticker] = returns[ticker].loc[X_test.index] * y_pred[:, tickers.index(ticker)]\n",
    "\n",
    "# Calculate cumulative returns of the sector rotation strategy\n",
    "rotation_strategy = investment_returns.mean(axis=1).cumsum()\n",
    "\n",
    "# Benchmark: Cumulative returns of equally weighted portfolio\n",
    "benchmark = returns.mean(axis=1).loc[X_test.index].cumsum()\n",
    "\n",
    "# Plot the results\n",
    "plt.plot(rotation_strategy, label='Sector Rotation Strategy')\n",
    "plt.plot(benchmark, label='Equally Weighted Benchmark')\n",
    "plt.legend()\n",
    "plt.title('Cumulative Returns: Sector Rotation Strategy vs Benchmark')\n",
    "plt.show()"
   ]
  },
  {
   "cell_type": "code",
   "execution_count": null,
   "id": "58a8f307",
   "metadata": {},
   "outputs": [],
   "source": []
  },
  {
   "cell_type": "code",
   "execution_count": 37,
   "id": "467b0346",
   "metadata": {},
   "outputs": [
    {
     "data": {
      "text/html": [
       "<div>\n",
       "<style scoped>\n",
       "    .dataframe tbody tr th:only-of-type {\n",
       "        vertical-align: middle;\n",
       "    }\n",
       "\n",
       "    .dataframe tbody tr th {\n",
       "        vertical-align: top;\n",
       "    }\n",
       "\n",
       "    .dataframe thead th {\n",
       "        text-align: right;\n",
       "    }\n",
       "</style>\n",
       "<table border=\"1\" class=\"dataframe\">\n",
       "  <thead>\n",
       "    <tr style=\"text-align: right;\">\n",
       "      <th></th>\n",
       "      <th>CPI</th>\n",
       "      <th>Unemployment</th>\n",
       "      <th>YieldCurve</th>\n",
       "      <th>IndustrialProduction</th>\n",
       "      <th>FedFunds</th>\n",
       "    </tr>\n",
       "  </thead>\n",
       "  <tbody>\n",
       "  </tbody>\n",
       "</table>\n",
       "</div>"
      ],
      "text/plain": [
       "Empty DataFrame\n",
       "Columns: [CPI, Unemployment, YieldCurve, IndustrialProduction, FedFunds]\n",
       "Index: []"
      ]
     },
     "execution_count": 37,
     "metadata": {},
     "output_type": "execute_result"
    }
   ],
   "source": [
    "# Cell: Load & engineer macroeconomic indicators from FRED\n",
    "from fredapi import Fred\n",
    "\n",
    "fred = Fred(api_key='4aeb460f0c974611ef8db66c9a660e8c')\n",
    "\n",
    "macro_series = {\n",
    "    'CPI': 'CPIAUCSL',\n",
    "    'Unemployment': 'UNRATE',\n",
    "    'YieldCurve': 'T10Y2Y',\n",
    "    'IndustrialProduction': 'INDPRO',\n",
    "    'FedFunds': 'FEDFUNDS'\n",
    "}\n",
    "\n",
    "macro_df = pd.concat(\n",
    "    [fred.get_series(code).to_frame(name=name) for name, code in macro_series.items()],\n",
    "    axis=1\n",
    ")\n",
    "\n",
    "macro_df.index = pd.to_datetime(macro_df.index)\n",
    "macro_df = macro_df.resample('M').ffill()\n",
    "\n",
    "# Align with ETF monthly returns\n",
    "combined_index = macro_df.index.intersection(monthly_returns.index)\n",
    "\n",
    "# Create features from macro_df (shifted to prevent lookahead)\n",
    "macro_features = macro_df.loc[combined_index].shift(1)\n",
    "\n",
    "# Re-align after shifting (drop the first shifted row)\n",
    "macro_features = macro_features.loc[combined_index]\n",
    "\n",
    "# Drop rows with any NaNs after alignment\n",
    "macro_features = macro_features.dropna()\n",
    "monthly_returns = monthly_returns.loc[macro_features.index]\n",
    "\n",
    "# Preview the result\n",
    "macro_features.head()\n"
   ]
  },
  {
   "cell_type": "code",
   "execution_count": 35,
   "id": "8e0ab7aa",
   "metadata": {},
   "outputs": [
    {
     "name": "stdout",
     "output_type": "stream",
     "text": [
      "Fetched CPI (CPIAUCSL) — 939 rows\n",
      "Fetched Unemployment (UNRATE) — 927 rows\n",
      "Fetched YieldCurve (T10Y2Y) — 12217 rows\n",
      "Fetched IndustrialProduction (INDPRO) — 1275 rows\n",
      "Fetched FedFunds (FEDFUNDS) — 849 rows\n"
     ]
    }
   ],
   "source": [
    "macro_frames = []\n",
    "for name, code in macro_series.items():\n",
    "    try:\n",
    "        series = fred.get_series(code).to_frame(name=name)\n",
    "        print(f\"Fetched {name} ({code}) — {series.dropna().shape[0]} rows\")\n",
    "        macro_frames.append(series)\n",
    "    except Exception as e:\n",
    "        print(f\"Error fetching {name} ({code}): {e}\")\n"
   ]
  },
  {
   "cell_type": "code",
   "execution_count": null,
   "id": "db1dad18",
   "metadata": {},
   "outputs": [
    {
     "data": {
      "text/html": [
       "<div>\n",
       "<style scoped>\n",
       "    .dataframe tbody tr th:only-of-type {\n",
       "        vertical-align: middle;\n",
       "    }\n",
       "\n",
       "    .dataframe tbody tr th {\n",
       "        vertical-align: top;\n",
       "    }\n",
       "\n",
       "    .dataframe thead th {\n",
       "        text-align: right;\n",
       "    }\n",
       "</style>\n",
       "<table border=\"1\" class=\"dataframe\">\n",
       "  <thead>\n",
       "    <tr style=\"text-align: right;\">\n",
       "      <th></th>\n",
       "      <th>CPI</th>\n",
       "      <th>Unemployment</th>\n",
       "      <th>YieldCurve</th>\n",
       "      <th>IndustrialProduction</th>\n",
       "      <th>FedFunds</th>\n",
       "    </tr>\n",
       "  </thead>\n",
       "  <tbody>\n",
       "  </tbody>\n",
       "</table>\n",
       "</div>"
      ],
      "text/plain": [
       "Empty DataFrame\n",
       "Columns: [CPI, Unemployment, YieldCurve, IndustrialProduction, FedFunds]\n",
       "Index: []"
      ]
     },
     "metadata": {},
     "output_type": "display_data"
    }
   ],
   "source": [
    "# Cell: Load & engineer macroeconomic indicators from FRED\n",
    "from fredapi import Fred\n",
    "\n",
    "fred = Fred(api_key='4aeb460f0c974611ef8db66c9a660e8c')\n",
    "\n",
    "macro_series = {\n",
    "    'CPI': 'CPIAUCSL',\n",
    "    'Unemployment': 'UNRATE',\n",
    "    'YieldCurve': 'T10Y2Y',\n",
    "    'IndustrialProduction': 'INDPRO',\n",
    "    'FedFunds': 'FEDFUNDS'\n",
    "}\n",
    "\n",
    "macro_df = pd.concat(\n",
    "    [fred.get_series(code).to_frame(name=name) for name, code in macro_series.items()],\n",
    "    axis=1\n",
    ")\n",
    "\n",
    "macro_df.index = pd.to_datetime(macro_df.index)\n",
    "macro_df = macro_df.resample('M').ffill()\n",
    "\n",
    "# Align with ETF monthly returns\n",
    "combined_index = macro_df.index.intersection(monthly_returns.index)\n",
    "\n",
    "# Create features from macro_df (shifted to prevent lookahead)\n",
    "macro_features = macro_df.loc[combined_index].shift(1)\n",
    "\n",
    "# Re-align after shifting (drop the first shifted row)\n",
    "macro_features = macro_features.loc[combined_index]\n",
    "\n",
    "# Drop rows with any NaNs after alignment\n",
    "macro_features = macro_features.dropna()\n",
    "monthly_returns = monthly_returns.loc[macro_features.index]\n",
    "\n",
    "# Preview the result\n",
    "macro_features.head()\n"
   ]
  }
 ],
 "metadata": {
  "kernelspec": {
   "display_name": "Python (myenv)",
   "language": "python",
   "name": "myenv"
  },
  "language_info": {
   "codemirror_mode": {
    "name": "ipython",
    "version": 3
   },
   "file_extension": ".py",
   "mimetype": "text/x-python",
   "name": "python",
   "nbconvert_exporter": "python",
   "pygments_lexer": "ipython3",
   "version": "3.9.13"
  }
 },
 "nbformat": 4,
 "nbformat_minor": 5
}
